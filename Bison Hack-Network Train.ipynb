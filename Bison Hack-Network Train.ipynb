{
 "cells": [
  {
   "cell_type": "code",
   "execution_count": 1,
   "metadata": {},
   "outputs": [],
   "source": [
    "import tensorflow as tf"
   ]
  },
  {
   "cell_type": "code",
   "execution_count": 66,
   "metadata": {},
   "outputs": [
    {
     "name": "stdout",
     "output_type": "stream",
     "text": [
      "Downloading data from https://github.com/fchollet/deep-learning-models/releases/download/v0.7/inception_resnet_v2_weights_tf_dim_ordering_tf_kernels_notop.h5\n",
      "219062272/219055592 [==============================] - 18s 0us/step\n"
     ]
    }
   ],
   "source": [
    "resnet = tf.keras.applications.inception_resnet_v2.InceptionResNetV2(include_top=False, weights='imagenet', pooling = 'avg')"
   ]
  },
  {
   "cell_type": "code",
   "execution_count": 67,
   "metadata": {},
   "outputs": [
    {
     "data": {
      "text/plain": [
       "<tensorflow.python.keras.engine.training.Model at 0x1bc7f1b4710>"
      ]
     },
     "execution_count": 67,
     "metadata": {},
     "output_type": "execute_result"
    }
   ],
   "source": [
    "resnet"
   ]
  },
  {
   "cell_type": "code",
   "execution_count": 68,
   "metadata": {},
   "outputs": [],
   "source": [
    "num_class = 6"
   ]
  },
  {
   "cell_type": "code",
   "execution_count": 69,
   "metadata": {},
   "outputs": [],
   "source": [
    "model = tf.keras.Sequential([resnet,\n",
    "                    tf.keras.layers.Dense(num_class, activation='softmax')])"
   ]
  },
  {
   "cell_type": "code",
   "execution_count": 70,
   "metadata": {},
   "outputs": [],
   "source": [
    "model.layers[0].trainable = False"
   ]
  },
  {
   "cell_type": "code",
   "execution_count": 71,
   "metadata": {},
   "outputs": [
    {
     "name": "stdout",
     "output_type": "stream",
     "text": [
      "Model: \"sequential_3\"\n",
      "_________________________________________________________________\n",
      "Layer (type)                 Output Shape              Param #   \n",
      "=================================================================\n",
      "inception_resnet_v2 (Model)  (None, 1536)              54336736  \n",
      "_________________________________________________________________\n",
      "dense_3 (Dense)              (None, 6)                 9222      \n",
      "=================================================================\n",
      "Total params: 54,345,958\n",
      "Trainable params: 9,222\n",
      "Non-trainable params: 54,336,736\n",
      "_________________________________________________________________\n"
     ]
    }
   ],
   "source": [
    "lr = 0.01\n",
    "momentum = 0.001\n",
    "opt = tf.keras.optimizers.SGD(learning_rate=lr, momentum = momentum)\n",
    "\n",
    "model.compile(optimizer=opt,\n",
    "              loss='categorical_crossentropy',\n",
    "              metrics=['accuracy'])\n",
    "\n",
    "model.summary()"
   ]
  },
  {
   "cell_type": "code",
   "execution_count": 72,
   "metadata": {},
   "outputs": [],
   "source": [
    "data_path = \"C:\\\\Users\\\\Nikesh\\\\Downloads\\\\dataset-resized\""
   ]
  },
  {
   "cell_type": "code",
   "execution_count": 73,
   "metadata": {},
   "outputs": [],
   "source": [
    "data_generator = tf.keras.preprocessing.image.ImageDataGenerator(preprocessing_function=tf.keras.applications.inception_resnet_v2.preprocess_input)"
   ]
  },
  {
   "cell_type": "code",
   "execution_count": 74,
   "metadata": {},
   "outputs": [
    {
     "name": "stdout",
     "output_type": "stream",
     "text": [
      "Found 1892 images belonging to 6 classes.\n",
      "Found 252 images belonging to 6 classes.\n"
     ]
    }
   ],
   "source": [
    "img_shape = 299\n",
    "train_gen = data_generator.flow_from_directory(data_path + '/train',\n",
    "                                               target_size=(img_shape, img_shape),\n",
    "                                               batch_size=85,\n",
    "                                               class_mode='categorical')\n",
    "\n",
    "val_gen = data_generator.flow_from_directory(data_path + '/val',\n",
    "                                             target_size=(img_shape, img_shape),\n",
    "                                             batch_size=1,\n",
    "                                             class_mode='categorical',\n",
    "                                             shuffle=False)"
   ]
  },
  {
   "cell_type": "code",
   "execution_count": 122,
   "metadata": {},
   "outputs": [
    {
     "name": "stdout",
     "output_type": "stream",
     "text": [
      "WARNING:tensorflow:sample_weight modes were coerced from\n",
      "  ...\n",
      "    to  \n",
      "  ['...']\n",
      "WARNING:tensorflow:sample_weight modes were coerced from\n",
      "  ...\n",
      "    to  \n",
      "  ['...']\n",
      "Train for 22.258823529411764 steps, validate for 252.0 steps\n",
      "Epoch 1/10\n",
      "22/22 [============================>.] - ETA: 0s - loss: 0.5072 - accuracy: 0.8423\n",
      "Epoch 00001: val_loss improved from inf to 0.69805, saving model to ./recycler2.h5\n",
      "23/22 [==============================] - 43s 2s/step - loss: 0.5067 - accuracy: 0.8399 - val_loss: 0.6981 - val_accuracy: 0.7500\n",
      "Epoch 2/10\n",
      "22/22 [============================>.] - ETA: 0s - loss: 0.5005 - accuracy: 0.8401\n",
      "Epoch 00002: val_loss did not improve from 0.69805\n",
      "23/22 [==============================] - 42s 2s/step - loss: 0.5046 - accuracy: 0.8383 - val_loss: 0.7065 - val_accuracy: 0.7421\n",
      "Epoch 3/10\n",
      "22/22 [============================>.] - ETA: 0s - loss: 0.5000 - accuracy: 0.8423\n",
      "Epoch 00003: val_loss did not improve from 0.69805\n",
      "23/22 [==============================] - 42s 2s/step - loss: 0.5018 - accuracy: 0.8420 - val_loss: 0.7007 - val_accuracy: 0.7579\n",
      "Epoch 4/10\n",
      "22/22 [============================>.] - ETA: 0s - loss: 0.4970 - accuracy: 0.8456\n",
      "Epoch 00004: val_loss did not improve from 0.69805\n",
      "23/22 [==============================] - 42s 2s/step - loss: 0.4990 - accuracy: 0.8436 - val_loss: 0.7069 - val_accuracy: 0.7460\n",
      "Epoch 5/10\n",
      "22/22 [============================>.] - ETA: 0s - loss: 0.4927 - accuracy: 0.8439\n",
      "Epoch 00005: val_loss did not improve from 0.69805\n",
      "23/22 [==============================] - 42s 2s/step - loss: 0.4968 - accuracy: 0.8420 - val_loss: 0.7009 - val_accuracy: 0.7540\n",
      "Epoch 6/10\n",
      "22/22 [============================>.] - ETA: 0s - loss: 0.4921 - accuracy: 0.8478\n",
      "Epoch 00006: val_loss did not improve from 0.69805\n",
      "23/22 [==============================] - 42s 2s/step - loss: 0.4942 - accuracy: 0.8462 - val_loss: 0.7107 - val_accuracy: 0.7460\n",
      "Epoch 7/10\n",
      "22/22 [============================>.] - ETA: 0s - loss: 0.4905 - accuracy: 0.8456\n",
      "Epoch 00007: val_loss did not improve from 0.69805\n",
      "23/22 [==============================] - 42s 2s/step - loss: 0.4923 - accuracy: 0.8436 - val_loss: 0.7077 - val_accuracy: 0.7460\n",
      "Epoch 8/10\n",
      "22/22 [============================>.] - ETA: 0s - loss: 0.4939 - accuracy: 0.8395\n",
      "Epoch 00008: val_loss did not improve from 0.69805\n",
      "23/22 [==============================] - 42s 2s/step - loss: 0.4899 - accuracy: 0.8425 - val_loss: 0.7010 - val_accuracy: 0.7540\n",
      "Epoch 9/10\n",
      "22/22 [============================>.] - ETA: 0s - loss: 0.4901 - accuracy: 0.8434\n",
      "Epoch 00009: val_loss did not improve from 0.69805\n",
      "23/22 [==============================] - 42s 2s/step - loss: 0.4878 - accuracy: 0.8446 - val_loss: 0.7044 - val_accuracy: 0.7579\n",
      "Epoch 10/10\n",
      "22/22 [============================>.] - ETA: 0s - loss: 0.4833 - accuracy: 0.8467\n",
      "Epoch 00010: val_loss did not improve from 0.69805\n",
      "23/22 [==============================] - 42s 2s/step - loss: 0.4852 - accuracy: 0.8473 - val_loss: 0.7058 - val_accuracy: 0.7579\n"
     ]
    }
   ],
   "source": [
    "n_epoch = 10\n",
    "\n",
    "model_name = 'recycler2'\n",
    "checkpoint = tf.keras.callbacks.ModelCheckpoint('./' +  model_name + '.h5',\n",
    "                             monitor='val_loss',\n",
    "                             save_best_only=True,\n",
    "                             verbose=1)\n",
    "\n",
    "history = model.fit_generator(train_gen,\n",
    "                              steps_per_epoch=train_gen.samples/train_gen.batch_size,\n",
    "                              validation_data=val_gen,\n",
    "                              validation_steps=val_gen.samples/val_gen.batch_size,\n",
    "                              epochs=n_epoch,\n",
    "                              callbacks=[checkpoint])"
   ]
  },
  {
   "cell_type": "code",
   "execution_count": 12,
   "metadata": {},
   "outputs": [],
   "source": [
    "import matplotlib.pyplot as plt\n",
    "import seaborn as sns\n",
    "import numpy as np"
   ]
  },
  {
   "cell_type": "code",
   "execution_count": 123,
   "metadata": {},
   "outputs": [],
   "source": [
    "val_acc = history.history['val_accuracy']\n",
    "val_loss = history.history['val_loss']\n",
    "acc = history.history['accuracy']\n",
    "loss = history.history['loss']"
   ]
  },
  {
   "cell_type": "code",
   "execution_count": 124,
   "metadata": {},
   "outputs": [
    {
     "data": {
      "text/plain": [
       "<matplotlib.legend.Legend at 0x1bc3503ad30>"
      ]
     },
     "execution_count": 124,
     "metadata": {},
     "output_type": "execute_result"
    },
    {
     "data": {
      "image/png": "[encoded data removed]",
      "text/plain": [
       "<Figure size 432x288 with 1 Axes>"
      ]
     },
     "metadata": {
      "needs_background": "light"
     },
     "output_type": "display_data"
    }
   ],
   "source": [
    "plt.plot(range(n_epoch), acc, 'b*-', label = 'Training accuracy')\n",
    "plt.plot(range(n_epoch), val_acc, 'r', label = 'Validation accuracy')\n",
    "plt.title('Training and validation accuracy')\n",
    "plt.legend()"
   ]
  },
  {
   "cell_type": "code",
   "execution_count": 126,
   "metadata": {},
   "outputs": [
    {
     "name": "stdout",
     "output_type": "stream",
     "text": [
      "Found 383 images belonging to 6 classes.\n"
     ]
    }
   ],
   "source": [
    "test_gen = data_generator.flow_from_directory(data_path + '/test',\n",
    "                                              target_size=(img_shape, img_shape),\n",
    "                                              batch_size=1,\n",
    "                                              class_mode='categorical',\n",
    "                                              shuffle=False)"
   ]
  },
  {
   "cell_type": "code",
   "execution_count": 127,
   "metadata": {},
   "outputs": [],
   "source": [
    "eval_model = model"
   ]
  },
  {
   "cell_type": "code",
   "execution_count": 128,
   "metadata": {},
   "outputs": [],
   "source": [
    "y_pred = eval_model.predict(test_gen)\n",
    "y_pred = np.argmax(y_pred, axis=1)"
   ]
  },
  {
   "cell_type": "code",
   "execution_count": 132,
   "metadata": {},
   "outputs": [
    {
     "data": {
      "text/plain": [
       "Counter({0: 56, 5: 38, 3: 83, 1: 76, 4: 79, 2: 51})"
      ]
     },
     "execution_count": 132,
     "metadata": {},
     "output_type": "execute_result"
    }
   ],
   "source": [
    "import collections\n",
    "collections.Counter(y_pred)"
   ]
  },
  {
   "cell_type": "code",
   "execution_count": 130,
   "metadata": {},
   "outputs": [],
   "source": [
    "from sklearn.metrics import classification_report, confusion_matrix"
   ]
  },
  {
   "cell_type": "code",
   "execution_count": 133,
   "metadata": {},
   "outputs": [
    {
     "name": "stdout",
     "output_type": "stream",
     "text": [
      "              precision    recall  f1-score   support\n",
      "\n",
      "           0       0.98      0.90      0.94        61\n",
      "           1       0.82      0.82      0.82        76\n",
      "           2       0.92      0.76      0.83        62\n",
      "           3       0.94      0.87      0.90        90\n",
      "           4       0.77      0.84      0.80        73\n",
      "           5       0.50      0.90      0.64        21\n",
      "\n",
      "    accuracy                           0.84       383\n",
      "   macro avg       0.82      0.85      0.82       383\n",
      "weighted avg       0.86      0.84      0.85       383\n",
      "\n"
     ]
    }
   ],
   "source": [
    "print(classification_report(test_gen.labels, y_pred))"
   ]
  },
  {
   "cell_type": "code",
   "execution_count": 134,
   "metadata": {},
   "outputs": [
    {
     "data": {
      "text/plain": [
       "array([[55,  0,  0,  5,  0,  1],\n",
       "       [ 0, 62,  1,  0, 13,  0],\n",
       "       [ 0,  6, 47,  0,  4,  5],\n",
       "       [ 1,  1,  0, 78,  1,  9],\n",
       "       [ 0,  6,  2,  0, 61,  4],\n",
       "       [ 0,  1,  1,  0,  0, 19]], dtype=int64)"
      ]
     },
     "execution_count": 134,
     "metadata": {},
     "output_type": "execute_result"
    },
    {
     "data": {
      "image/png": "[encoded data removed]",
      "text/plain": [
       "<Figure size 864x432 with 2 Axes>"
      ]
     },
     "metadata": {
      "needs_background": "light"
     },
     "output_type": "display_data"
    }
   ],
   "source": [
    "cf_matrix = confusion_matrix(test_gen.labels, y_pred)\n",
    "\n",
    "plt.figure(figsize=(12,6))\n",
    "heatmap = sns.heatmap(cf_matrix, annot=True, fmt='d', color='blue', cmap=\"YlGnBu\")\n",
    "plt.xlabel('Predicted class')\n",
    "plt.ylabel('True class')\n",
    "plt.title('Confusion matrix of model')\n",
    "cf_matrix"
   ]
  },
  {
   "cell_type": "code",
   "execution_count": 22,
   "metadata": {},
   "outputs": [],
   "source": [
    "import os"
   ]
  },
  {
   "cell_type": "code",
   "execution_count": 24,
   "metadata": {},
   "outputs": [],
   "source": [
    "img_dir = \"C:\\\\Users\\\\Nikesh\\\\Desktop\\\\test\""
   ]
  },
  {
   "cell_type": "code",
   "execution_count": 1,
   "metadata": {},
   "outputs": [
    {
     "ename": "NameError",
     "evalue": "name 'data_generator' is not defined",
     "output_type": "error",
     "traceback": [
      "\u001b[1;31m---------------------------------------------------------------------------\u001b[0m",
      "\u001b[1;31mNameError\u001b[0m                                 Traceback (most recent call last)",
      "\u001b[1;32m<ipython-input-1-4acf94ff70c8>\u001b[0m in \u001b[0;36m<module>\u001b[1;34m\u001b[0m\n\u001b[1;32m----> 1\u001b[1;33m test_gen2 = data_generator.flow_from_directory(img_dir,\n\u001b[0m\u001b[0;32m      2\u001b[0m                                               \u001b[0mtarget_size\u001b[0m\u001b[1;33m=\u001b[0m\u001b[1;33m(\u001b[0m\u001b[0mimg_shape\u001b[0m\u001b[1;33m,\u001b[0m \u001b[0mimg_shape\u001b[0m\u001b[1;33m)\u001b[0m\u001b[1;33m,\u001b[0m\u001b[1;33m\u001b[0m\u001b[1;33m\u001b[0m\u001b[0m\n\u001b[0;32m      3\u001b[0m                                               \u001b[0mclass_mode\u001b[0m\u001b[1;33m=\u001b[0m\u001b[1;34m'categorical'\u001b[0m\u001b[1;33m,\u001b[0m\u001b[1;33m\u001b[0m\u001b[1;33m\u001b[0m\u001b[0m\n\u001b[0;32m      4\u001b[0m                                               shuffle=False)\n",
      "\u001b[1;31mNameError\u001b[0m: name 'data_generator' is not defined"
     ]
    }
   ],
   "source": [
    "test_gen2 = data_generator.flow_from_directory(img_dir,\n",
    "                                              target_size=(img_shape, img_shape),\n",
    "                                              class_mode='categorical',\n",
    "                                              shuffle=False)"
   ]
  },
  {
   "cell_type": "code",
   "execution_count": 2,
   "metadata": {
    "scrolled": true
   },
   "outputs": [
    {
     "ename": "NameError",
     "evalue": "name 'model' is not defined",
     "output_type": "error",
     "traceback": [
      "\u001b[1;31m---------------------------------------------------------------------------\u001b[0m",
      "\u001b[1;31mNameError\u001b[0m                                 Traceback (most recent call last)",
      "\u001b[1;32m<ipython-input-2-367de61c7dfe>\u001b[0m in \u001b[0;36m<module>\u001b[1;34m\u001b[0m\n\u001b[1;32m----> 1\u001b[1;33m \u001b[0mresult\u001b[0m\u001b[1;33m=\u001b[0m \u001b[0mmodel\u001b[0m\u001b[1;33m.\u001b[0m\u001b[0mpredict\u001b[0m\u001b[1;33m(\u001b[0m\u001b[0mtest_gen2\u001b[0m\u001b[1;33m)\u001b[0m\u001b[1;33m\u001b[0m\u001b[1;33m\u001b[0m\u001b[0m\n\u001b[0m\u001b[0;32m      2\u001b[0m \u001b[0mresult\u001b[0m \u001b[1;33m=\u001b[0m \u001b[0mnp\u001b[0m\u001b[1;33m.\u001b[0m\u001b[0margmax\u001b[0m\u001b[1;33m(\u001b[0m\u001b[0mresult\u001b[0m\u001b[1;33m,\u001b[0m\u001b[0maxis\u001b[0m \u001b[1;33m=\u001b[0m \u001b[1;36m1\u001b[0m\u001b[1;33m)\u001b[0m\u001b[1;33m\u001b[0m\u001b[1;33m\u001b[0m\u001b[0m\n\u001b[0;32m      3\u001b[0m \u001b[0mprint\u001b[0m\u001b[1;33m(\u001b[0m\u001b[0mcollections\u001b[0m\u001b[1;33m.\u001b[0m\u001b[0mCounter\u001b[0m\u001b[1;33m(\u001b[0m\u001b[0mresult\u001b[0m\u001b[1;33m)\u001b[0m\u001b[1;33m)\u001b[0m\u001b[1;33m\u001b[0m\u001b[1;33m\u001b[0m\u001b[0m\n\u001b[0;32m      4\u001b[0m \u001b[0mlabels\u001b[0m \u001b[1;33m=\u001b[0m \u001b[1;33m(\u001b[0m\u001b[0mtest_gen\u001b[0m\u001b[1;33m.\u001b[0m\u001b[0mclass_indices\u001b[0m\u001b[1;33m)\u001b[0m\u001b[1;33m\u001b[0m\u001b[1;33m\u001b[0m\u001b[0m\n\u001b[0;32m      5\u001b[0m \u001b[0mlabels\u001b[0m \u001b[1;33m=\u001b[0m \u001b[0mdict\u001b[0m\u001b[1;33m(\u001b[0m\u001b[1;33m(\u001b[0m\u001b[0mv\u001b[0m\u001b[1;33m,\u001b[0m\u001b[0mk\u001b[0m\u001b[1;33m)\u001b[0m \u001b[1;32mfor\u001b[0m \u001b[0mk\u001b[0m\u001b[1;33m,\u001b[0m\u001b[0mv\u001b[0m \u001b[1;32min\u001b[0m \u001b[0mlabels\u001b[0m\u001b[1;33m.\u001b[0m\u001b[0mitems\u001b[0m\u001b[1;33m(\u001b[0m\u001b[1;33m)\u001b[0m\u001b[1;33m)\u001b[0m\u001b[1;33m\u001b[0m\u001b[1;33m\u001b[0m\u001b[0m\n",
      "\u001b[1;31mNameError\u001b[0m: name 'model' is not defined"
     ]
    }
   ],
   "source": [
    "result= model.predict(test_gen2)\n",
    "result = np.argmax(result,axis = 1)\n",
    "print(collections.Counter(result))\n",
    "labels = (test_gen.class_indices)\n",
    "labels = dict((v,k) for k,v in labels.items())\n",
    "fig = plt.figure(figsize=(20, 20))\n",
    "x,y = test_gen2.next()\n",
    "n = 19\n",
    "for i in range(0,n):\n",
    "    plt.figure(figsize=(2, 2))\n",
    "    image_x = x[i,:,:,2]\n",
    "    image_label = labels[result[i]] # only OK if shuffle=false\n",
    "    plt.title(image_label)\n",
    "    plt.imshow(image_x)\n",
    "    plt.show() \n",
    "    \n"
   ]
  },
  {
   "cell_type": "code",
   "execution_count": null,
   "metadata": {},
   "outputs": [],
   "source": []
  }
 ],
 "metadata": {
  "kernelspec": {
   "display_name": "Python 3",
   "language": "python",
   "name": "python3"
  },
  "language_info": {
   "codemirror_mode": {
    "name": "ipython",
    "version": 3
   },
   "file_extension": ".py",
   "mimetype": "text/x-python",
   "name": "python",
   "nbconvert_exporter": "python",
   "pygments_lexer": "ipython3",
   "version": "3.7.3"
  }
 },
 "nbformat": 4,
 "nbformat_minor": 2
}
