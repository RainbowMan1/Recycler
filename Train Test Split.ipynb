{
 "cells": [
  {
   "cell_type": "code",
   "execution_count": 39,
   "metadata": {},
   "outputs": [],
   "source": [
    "import os\n",
    "import numpy as np\n",
    "import shutil"
   ]
  },
  {
   "cell_type": "code",
   "execution_count": 43,
   "metadata": {},
   "outputs": [],
   "source": [
    "root = 'C:\\\\Users\\\\Nikesh\\\\Downloads\\\\dataset-resized'\n",
    "categories = ['cardboard','glass','metal','paper','plastic','trash']"
   ]
  },
  {
   "cell_type": "code",
   "execution_count": 44,
   "metadata": {},
   "outputs": [],
   "source": [
    "os.makedirs(root +'/train')\n",
    "os.makedirs(root +'/test')\n",
    "os.makedirs(root +'/val')\n",
    "for category in categories:\n",
    "    os.makedirs(root +'/train/' + category)\n",
    "    os.makedirs(root +'/val/' + category)\n",
    "    os.makedirs(root +'/test/' + category)"
   ]
  },
  {
   "cell_type": "code",
   "execution_count": 45,
   "metadata": {},
   "outputs": [
    {
     "name": "stdout",
     "output_type": "stream",
     "text": [
      "Total images:  403\n",
      "Training:  302\n",
      "Validation:  40\n",
      "Testing:  61\n",
      "Total images:  501\n",
      "Training:  375\n",
      "Validation:  50\n",
      "Testing:  76\n",
      "Total images:  410\n",
      "Training:  307\n",
      "Validation:  41\n",
      "Testing:  62\n",
      "Total images:  594\n",
      "Training:  445\n",
      "Validation:  59\n",
      "Testing:  90\n",
      "Total images:  482\n",
      "Training:  361\n",
      "Validation:  48\n",
      "Testing:  73\n",
      "Total images:  137\n",
      "Training:  102\n",
      "Validation:  14\n",
      "Testing:  21\n"
     ]
    }
   ],
   "source": [
    "for cate in categories:\n",
    "    currentcate = cate\n",
    "    src = root+'/'+currentcate\n",
    "\n",
    "    allFileNames = os.listdir(src)\n",
    "    np.random.shuffle(allFileNames)\n",
    "    train_FileNames, val_FileNames, test_FileNames = np.split(np.array(allFileNames),\n",
    "                                                              [int(len(allFileNames)*0.75), int(len(allFileNames)*0.85)])\n",
    "\n",
    "\n",
    "    train_FileNames = [src+'/'+ name for name in train_FileNames.tolist()]\n",
    "    val_FileNames = [src+'/' + name for name in val_FileNames.tolist()]\n",
    "    test_FileNames = [src+'/' + name for name in test_FileNames.tolist()]\n",
    "\n",
    "    print('Total images: ', len(allFileNames))\n",
    "    print('Training: ', len(train_FileNames))\n",
    "    print('Validation: ', len(val_FileNames))\n",
    "    print('Testing: ', len(test_FileNames))\n",
    "\n",
    "    # Copy-pasting images\n",
    "    for name in train_FileNames:\n",
    "        shutil.copy(name, root +'/train/' + cate)\n",
    "\n",
    "    for name in val_FileNames:\n",
    "        shutil.copy(name, root +'/val/' + cate)\n",
    "\n",
    "    for name in test_FileNames:\n",
    "        shutil.copy(name, root +'/test/' + cate)"
   ]
  },
  {
   "cell_type": "code",
   "execution_count": 34,
   "metadata": {},
   "outputs": [],
   "source": [
    "path = 'C:\\\\Users\\\\Nikesh\\\\Downloads\\\\dataset-resized\\\\train\\\\nonrecyclable'"
   ]
  },
  {
   "cell_type": "code",
   "execution_count": 35,
   "metadata": {},
   "outputs": [],
   "source": [
    "import imageio\n",
    "import imgaug as ia\n",
    "import imgaug.augmenters as iaa"
   ]
  },
  {
   "cell_type": "code",
   "execution_count": 37,
   "metadata": {},
   "outputs": [],
   "source": [
    "allFileNames = os.listdir(path)\n",
    "for i in allFileNames:\n",
    "    #print(i)\n",
    "    image = imageio.imread(path+\"\\\\\"+i)\n",
    "    rotate=iaa.Affine(rotate=(int(np.random.random_sample()*180), int(np.random.random_sample()*180)))\n",
    "    #print(rotate)\n",
    "    rotate2 = iaa.Affine(rotate=(int(np.random.random_sample()*180), int(np.random.random_sample()*180)))\n",
    "    #print(rotate2)\n",
    "    rotated_image1=rotate.augment_image(image)\n",
    "    rotated_image2=rotate2.augment_image(image)\n",
    "    imageio.imwrite(path + \"\\\\rotated1\"+i, rotated_image1)\n",
    "    imageio.imwrite(path + \"\\\\rotated2\"+i, rotated_image2)"
   ]
  },
  {
   "cell_type": "code",
   "execution_count": 26,
   "metadata": {},
   "outputs": [
    {
     "data": {
      "text/plain": [
       "0.10873247391351493"
      ]
     },
     "execution_count": 26,
     "metadata": {},
     "output_type": "execute_result"
    }
   ],
   "source": []
  },
  {
   "cell_type": "code",
   "execution_count": null,
   "metadata": {},
   "outputs": [],
   "source": []
  }
 ],
 "metadata": {
  "kernelspec": {
   "display_name": "Python 3",
   "language": "python",
   "name": "python3"
  },
  "language_info": {
   "codemirror_mode": {
    "name": "ipython",
    "version": 3
   },
   "file_extension": ".py",
   "mimetype": "text/x-python",
   "name": "python",
   "nbconvert_exporter": "python",
   "pygments_lexer": "ipython3",
   "version": "3.7.3"
  }
 },
 "nbformat": 4,
 "nbformat_minor": 2
}
